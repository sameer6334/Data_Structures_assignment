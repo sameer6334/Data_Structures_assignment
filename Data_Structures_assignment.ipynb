{
 "cells": [
  {
   "cell_type": "markdown",
   "id": "c2b898b3-0ad2-4194-a9db-5e6b784316eb",
   "metadata": {},
   "source": [
    "# THEORITICAL QUESTIONS"
   ]
  },
  {
   "cell_type": "markdown",
   "id": "eb40967a-e6b3-4936-9115-e08148188c44",
   "metadata": {},
   "source": [
    "## 1. What are data structures, and why are they important?"
   ]
  },
  {
   "cell_type": "code",
   "execution_count": 3,
   "id": "296d55cd-b968-4a3a-b23d-b4f20d24108e",
   "metadata": {},
   "outputs": [],
   "source": [
    "#Data structres are used to organize and storing data,so that it can be accessed and manipulate efficiently...\n",
    "#Data Structures are important beacuse choosing the right data, significantly impacts the efficiency and performance of the data well choosen data\n",
    "#can be optismized for searching and sorting and efficient for data manipulation it impacts memory usage "
   ]
  },
  {
   "cell_type": "markdown",
   "id": "89df0954-79bb-49a8-bc7d-9be9c21427a5",
   "metadata": {},
   "source": [
    "## 2. Explain the difference between mutable and immutable data types with examples?"
   ]
  },
  {
   "cell_type": "code",
   "execution_count": 7,
   "id": "70b312de-73f4-4a9b-a12a-b8498ecfa33e",
   "metadata": {},
   "outputs": [
    {
     "name": "stdout",
     "output_type": "stream",
     "text": [
      "[1, 4, 3] list modified successfully\n",
      "ERROR,Tuples cannot be modified after the creation\n"
     ]
    }
   ],
   "source": [
    "#Mutable data types can be modifiend after the creation whereas immutable data types cannot be modified after creation\n",
    "#E.G :- List is a mutable data type and tuple is immutable data type \n",
    "l = [1,2,3]\n",
    "l[1] = 4\n",
    "print(l,\"list modified successfully\")\n",
    "t = (1,2,3)\n",
    "try:\n",
    "    t[1] = 4\n",
    "except TypeError:\n",
    "    print(\"ERROR,Tuples cannot be modified after the creation\")\n",
    "    "
   ]
  },
  {
   "cell_type": "markdown",
   "id": "a94fcad6-76dc-4bd0-8457-1fde497aae71",
   "metadata": {},
   "source": [
    "## 3. What are the main differences between lists and tuples in Python?"
   ]
  },
  {
   "cell_type": "code",
   "execution_count": 8,
   "id": "965a395d-2d12-4f4d-a704-c94ff784b8ff",
   "metadata": {},
   "outputs": [],
   "source": [
    "#Lists are mutable and tuples are immutable...\n",
    "#Lists defined using [] square brackets\n",
    "#tuples defined using () parenthesis\n",
    "#lists are unhashable therefore lists cannot be used as key in dictionary\n",
    "#tuples are hashable therefore tuples can be used as key in dictionary"
   ]
  },
  {
   "cell_type": "markdown",
   "id": "fc572bc2-bbf6-4c84-a643-7360a5c71813",
   "metadata": {},
   "source": [
    "## 4. Describe how dictionaries store data?"
   ]
  },
  {
   "cell_type": "code",
   "execution_count": 11,
   "id": "806970af-b164-4a13-8777-e17bd022b57b",
   "metadata": {},
   "outputs": [],
   "source": [
    "#Dictionaries store data in key value pair\n",
    "#indexing is not possible in dictionaries as they are unordered collection\n",
    "#dictionary stores key in the form of int,float,boolean data types but it cannot store in the form of special characters\n",
    "#list cannot used as key in dictionaries beacause it is unhashable data structure\n",
    "#tuples can be used as key in dictionaries because it is hashable data structure\n",
    "#but to store a value in dictionaries both lists and tuples can be used to store values in dictionaries"
   ]
  },
  {
   "cell_type": "markdown",
   "id": "2dee01ac-b41d-4e6e-8c10-710069e6c00b",
   "metadata": {},
   "source": [
    "## 5. Why might you use a set instead of a list in Python?\n"
   ]
  },
  {
   "cell_type": "code",
   "execution_count": 12,
   "id": "db7fa92e-da8e-40ef-81a0-2e88131cb6b0",
   "metadata": {},
   "outputs": [],
   "source": [
    "#set is unordered collection of unique items/elements.\n",
    "#list is ordered collection of items/elements.\n",
    "#set doesnot allow duplicate elements\n",
    "#list allows duplicate elements\n",
    "\n",
    "#USE CASE:-\n",
    "\n",
    "#If ramesh is going to buy groceries and he is preparing list of items, items that he purchased so he purchased a pack of milk,buttermilk from store1 \n",
    "#and he purchased another pack of milk from store2 now the list should be written as milk,buttermilk not as milk,milk,buttermilk"
   ]
  },
  {
   "cell_type": "markdown",
   "id": "40b0c733-dd19-4765-bf98-cad7680ed819",
   "metadata": {},
   "source": [
    "## 6. What is a string in Python, and how is it different from a list?\n"
   ]
  },
  {
   "cell_type": "code",
   "execution_count": 13,
   "id": "c9b43aa3-ef17-4150-a87b-553529ebb4b1",
   "metadata": {},
   "outputs": [],
   "source": [
    "#string is sequence of characters each character represented by numerical values, each character is assigned to a unique value.\n",
    "#list is an ordered collection of elements which stores heterogeneous data \n",
    "#string is eclosed using single,double,triple quotes\n",
    "#list is enclosed using square brackets\n",
    "#string can be used for manipulation of textual data\n",
    "#list can be used for manipulation of seqeuence of elemenst\n",
    "#elements of string are character\n",
    "#elements of list can be of any data type\n",
    "#we can do operation like .lower(), .upper(), .swapcase(), .capitaliz() on strings\n",
    "#we can do operation like .append(), .pop(), .remove() in list\n"
   ]
  },
  {
   "cell_type": "markdown",
   "id": "8f823752-4a07-4fb1-9201-e14a041dd4bd",
   "metadata": {},
   "source": [
    "## 7. How do tuples ensure data integrity in Python?"
   ]
  },
  {
   "cell_type": "code",
   "execution_count": 14,
   "id": "ebdb0729-39f9-48a5-b400-416874601a22",
   "metadata": {},
   "outputs": [],
   "source": [
    "#Tuples ensure data integrity primarily through immutability.It's immutability prevents th accidental change in tuples\n",
    "#There are different ways by which tuples ensure it's data integrity:-\n",
    "# 1) Immutability prevents accidental or unintended changes\n",
    "# 2) Hashability:- Tuples are hashable it can be used as key in dictionaries, Hash values of tuples depends on it's elements, Immutability maintain the \n",
    "#                  hash value constant\n",
    "# 3) Preservation of order:- tuples are ordered collection of elements, immutability guarantees the order of tuples after the creation\n",
    "# 4) Reduced risk of bugs:- As tuples cannot be altered after the creation thats why the risk is reduced of bugs"
   ]
  },
  {
   "cell_type": "markdown",
   "id": "c766cf15-fcb9-49f0-abc6-d545b348fa8c",
   "metadata": {},
   "source": [
    "## 8. What is a hash table, and how does it relate to dictionaries in Python?"
   ]
  },
  {
   "cell_type": "code",
   "execution_count": 1,
   "id": "c2c01bbd-e6b6-44e6-8a38-fc6d4bc8075c",
   "metadata": {},
   "outputs": [],
   "source": [
    "# Hash table is a data structure use to retrieve efficient data using key. It is based on the concept of hashing, hashing is fucntion used to convert\n",
    "# key into unique index corresponds to speacific location in a table.\n",
    "# KEY FEATURES OF HASH TABLE :-\n",
    "# 1) key-value pair storage :- it stored in the form of key value pair, key maps to value\n",
    "# 2) hash function :- It is mathematical function used to compute the index for storing key-value pair\n",
    "# 3) collison handling :- If two values produced same hash values. mechanism like chainig and open addressing use to resolve the conflicts\n"
   ]
  },
  {
   "cell_type": "markdown",
   "id": "9704edc6-2eaf-450c-98b8-109aa51b08e3",
   "metadata": {},
   "source": [
    "## 9. Can lists contain different data types in Python?"
   ]
  },
  {
   "cell_type": "code",
   "execution_count": 2,
   "id": "cf52ec5a-2b2c-466f-8976-7b94967cbf27",
   "metadata": {},
   "outputs": [],
   "source": [
    "#Yes,list contains different data types in python such as int,float,bool,string,complex,tuples,set"
   ]
  },
  {
   "cell_type": "markdown",
   "id": "2e89dba6-1366-4d7c-a6f5-912bf2aac107",
   "metadata": {},
   "source": [
    "## 10. Explain why strings are immutable in Python?"
   ]
  },
  {
   "cell_type": "code",
   "execution_count": 3,
   "id": "02d58a94-eff0-49cd-8f99-3f77a34f7224",
   "metadata": {},
   "outputs": [],
   "source": [
    "#Strings are immutable in python we cannot modify becuse:-\n",
    "# 1) Storage optimization:- String is widely used in programming, it's immutability allows python to optimize their storage\n",
    "# 2) Threa saftey:- Strings are inherently thread safe\n",
    "# 3) Predictibility:- with immutability, string behaves consistenly predictable, Functions and operations using string would easily predict that is's \n",
    "#                    value will not change.\n",
    "# 4) hashing for key-value:- Strings used as key in dictionaries, if strings were immutable then hash values must be not constant as a result\n",
    "#                            it won't be used as key in dictionaries\n",
    "# 5) security :- immutability prevents accidental or malcious modification because of this it is safe."
   ]
  },
  {
   "cell_type": "markdown",
   "id": "ed13adf2-94d1-49c5-b088-38d8e258f206",
   "metadata": {},
   "source": [
    "## 11. What advantages do dictionaries offer over lists for certain tasks?"
   ]
  },
  {
   "cell_type": "code",
   "execution_count": 5,
   "id": "114417b7-70e9-4613-b922-e2477ba0bc52",
   "metadata": {},
   "outputs": [],
   "source": [
    "#Dictionaries store data in the form of key-value pair\n",
    "#use case is if we need emp_id corresponding to it's name then set emp_id as key and name as value.\n",
    "#use when faster lookups needed\n",
    "#many data types stored in the form of key e.g:- int,float,bool\n",
    "#hashable data types can be store as values in dictionary\n",
    "#It has better organization for complex data."
   ]
  },
  {
   "cell_type": "markdown",
   "id": "b802f8b6-2d05-457e-8fe3-64c5281ea1a6",
   "metadata": {},
   "source": [
    "## 12. Describe a scenario where using a tuple would be preferable over a list?"
   ]
  },
  {
   "cell_type": "code",
   "execution_count": 6,
   "id": "586ddf03-d59e-412e-868d-ad08b9a42eda",
   "metadata": {},
   "outputs": [],
   "source": [
    "#lists defined using [] square brackets\n",
    "#tuples defined using () parenthesis\n",
    "#Tuples would be preferable when modification of data is not in need\n",
    "#For Example:- if there's a roll number of students we know that roll numbers of students are fixed \n",
    "#other examples :- to store name,age,degree of an individual,class,deparmnets,enrollment number etc.\n"
   ]
  },
  {
   "cell_type": "markdown",
   "id": "d87e5ddc-4d21-47f2-a3ec-f8c87e68b2d6",
   "metadata": {},
   "source": [
    "## 13. How do sets handle duplicate values in Python?"
   ]
  },
  {
   "cell_type": "code",
   "execution_count": 8,
   "id": "7bff2285-a9c2-430f-8c14-bccfbca2acb8",
   "metadata": {},
   "outputs": [],
   "source": [
    "#Sets handle duplicates by simply ensuring unique elements in the sets it silently remove the duplicate element. set is an unordered collection\n",
    "#of elements"
   ]
  },
  {
   "cell_type": "markdown",
   "id": "9944810a-3a47-4d2f-805b-cf2d954f9a6c",
   "metadata": {},
   "source": [
    "## 14. How does the “in” keyword work differently for lists and dictionaries?"
   ]
  },
  {
   "cell_type": "code",
   "execution_count": 10,
   "id": "51112895-ccbb-4fd4-bef2-b00d85a6f0c3",
   "metadata": {},
   "outputs": [],
   "source": [
    "#\"in\" is a membership operator use to check the membership\n",
    "#In a list ,\"in\" is used to check the given value in a sequence \n",
    "#In a dictionary,\"in\" is used to check the given value in present as key(not as value)"
   ]
  },
  {
   "cell_type": "markdown",
   "id": "f1063ae1-8f34-46c7-9132-f740f5a253d9",
   "metadata": {},
   "source": [
    "## 15. Can you modify the elements of a tuple? Explain why or why not?\n"
   ]
  },
  {
   "cell_type": "code",
   "execution_count": 12,
   "id": "95c5b896-0894-4590-ba83-61aa21ffe114",
   "metadata": {},
   "outputs": [],
   "source": [
    "#No, the elements of a tuple cannot modify because tuples are immutable that means we cannot change the state or value after the creation."
   ]
  },
  {
   "cell_type": "markdown",
   "id": "24df773d-2e97-47c9-8cf0-2c4900dba681",
   "metadata": {},
   "source": [
    "## 16. What is a nested dictionary, and give an example of its use case?"
   ]
  },
  {
   "cell_type": "code",
   "execution_count": 21,
   "id": "39a0e0cd-c107-4809-ad5c-45ebb2d00127",
   "metadata": {},
   "outputs": [
    {
     "name": "stdout",
     "output_type": "stream",
     "text": [
      "{'student_1': {'name': 'sameer', 'age': 18, 'grade': 'AA'}, 'student_2': {'name': 'pratik', 'age': 19, 'grade': 'BB'}}\n"
     ]
    }
   ],
   "source": [
    "#Nested dictionary in python is a dictionary where the values of dictionary itself a dictionary\n",
    "#USE CASE :-\n",
    "student = {\n",
    "    \"student_1\":\n",
    "    {\"name\":\"sameer\",\"age\":18,\"grade\":\"AA\"},\n",
    "    \"student_2\":\n",
    "    {\"name\":\"pratik\",\"age\":19,\"grade\":\"BB\"}\n",
    "}\n",
    "print(student)\n",
    "    \n"
   ]
  },
  {
   "cell_type": "markdown",
   "id": "38143131-59fb-41af-8ff9-708b2743ff23",
   "metadata": {},
   "source": [
    "## 17. Describe the time complexity of accessing elements in a dictionary?"
   ]
  },
  {
   "cell_type": "code",
   "execution_count": 22,
   "id": "b53135e9-4030-4353-95a0-975882f56971",
   "metadata": {},
   "outputs": [],
   "source": [
    "#The time complexity of accessing elements in a Python dictionary is typically O(1) (constant time) on average, \n",
    "#thanks to its underlying hash table implementation."
   ]
  },
  {
   "cell_type": "markdown",
   "id": "a3e3b605-1f06-4ef3-a9d0-6aa6c4630c5b",
   "metadata": {},
   "source": [
    "## 18. In what situations are lists preferred over dictionaries?"
   ]
  },
  {
   "cell_type": "code",
   "execution_count": 23,
   "id": "d100a193-8479-40df-8c56-5216a5fb4996",
   "metadata": {},
   "outputs": [],
   "source": [
    "#Lists are preferred over dictionaries when ordered collection of item are in need\n",
    "#For example :- if there's a menu of restaurant then title of starter must be first heaading of main course must be second and heading of deserts must \n",
    "#be third"
   ]
  },
  {
   "cell_type": "markdown",
   "id": "a9796b4e-10b2-403c-b6de-c199af27a301",
   "metadata": {},
   "source": [
    "## 19. Why are dictionaries considered unordered, and how does that affect data retrieval?"
   ]
  },
  {
   "cell_type": "code",
   "execution_count": 25,
   "id": "d24d353f-cb8d-448a-988b-0ed533087c4a",
   "metadata": {},
   "outputs": [],
   "source": [
    "#-->>Before Python 3.7: Dictionaries were unordered because their elements were stored based on hash values, and there was no guarantee of maintaining \n",
    "#insertion order.\n",
    "#-->>From Python 3.7 onwards: Dictionaries maintain insertion order, so data retrieval using iteration respects the order in which items were added.\n",
    "#-->>Impact on Retrieval: The speed of retrieving data using a key (e.g., O(1) access time) is unaffected by whether the dictionary is ordered or unordered, \n",
    "#but the ability to rely on insertion order is now a feature in modern Python versions."
   ]
  },
  {
   "cell_type": "markdown",
   "id": "aefe38b1-be59-4d56-a9a6-5c707a31f928",
   "metadata": {},
   "source": [
    "## 20. Explain the difference between a list and a dictionary in terms of data retrieval?"
   ]
  },
  {
   "cell_type": "code",
   "execution_count": 30,
   "id": "3c68cacf-4a59-427d-81b7-a66fabacc54a",
   "metadata": {},
   "outputs": [],
   "source": [
    "#list access data through index\n",
    "#dictionary access data through key\n",
    "#list preferred in terms of sequential data \n",
    "#dictionary preferred in terms of associative data\n",
    "#list search data sequentially\n",
    "#dictionary search elemenst through associativity\n",
    "#speed to search element in list is slower\n",
    "#speed to search element in dictionary is faster"
   ]
  },
  {
   "cell_type": "markdown",
   "id": "888b7d40-c357-4b44-b742-59512fdfbb99",
   "metadata": {},
   "source": [
    "# PRACTICAL QUESTIONS"
   ]
  },
  {
   "cell_type": "markdown",
   "id": "c1657dde-b386-48e5-a9ad-9e50f4713c2c",
   "metadata": {},
   "source": [
    "## 1. Write a code to create a string with your name and print it."
   ]
  },
  {
   "cell_type": "code",
   "execution_count": 31,
   "id": "049e3307-0bf1-465d-8b97-0ae151ffbb19",
   "metadata": {},
   "outputs": [
    {
     "name": "stdout",
     "output_type": "stream",
     "text": [
      "sameer\n"
     ]
    }
   ],
   "source": [
    "name = \"sameer\"\n",
    "print(name)"
   ]
  },
  {
   "cell_type": "markdown",
   "id": "bd82aeaa-6acb-40c4-ad8e-d3935ead54f9",
   "metadata": {},
   "source": [
    "## 2. Write a code to find the length of the string \"Hello World\"."
   ]
  },
  {
   "cell_type": "code",
   "execution_count": 32,
   "id": "b2e8baf8-972e-4cb0-bb53-ef5fb399781e",
   "metadata": {},
   "outputs": [
    {
     "data": {
      "text/plain": [
       "11"
      ]
     },
     "execution_count": 32,
     "metadata": {},
     "output_type": "execute_result"
    }
   ],
   "source": [
    "len(\"Hello World\")"
   ]
  },
  {
   "cell_type": "markdown",
   "id": "f14bd2b7-6031-4a4e-a169-c44e1b123f19",
   "metadata": {},
   "source": [
    "## 3. Write a code to slice the first 3 characters from the string \"Python Programming\"."
   ]
  },
  {
   "cell_type": "code",
   "execution_count": 34,
   "id": "89ea03ef-735c-4340-92ac-b97498f2f79a",
   "metadata": {},
   "outputs": [
    {
     "data": {
      "text/plain": [
       "'Pyt'"
      ]
     },
     "execution_count": 34,
     "metadata": {},
     "output_type": "execute_result"
    }
   ],
   "source": [
    "x = \"Python Programming\"\n",
    "x[:3]"
   ]
  },
  {
   "cell_type": "markdown",
   "id": "763646f2-7c82-4f20-81cc-a0eb966b15e3",
   "metadata": {},
   "source": [
    "## 4. Write a code to convert the string \"hello\" to uppercase."
   ]
  },
  {
   "cell_type": "code",
   "execution_count": 35,
   "id": "359c5d6e-6d17-4537-8eb4-4a000efb8171",
   "metadata": {},
   "outputs": [
    {
     "data": {
      "text/plain": [
       "'HELLO'"
      ]
     },
     "execution_count": 35,
     "metadata": {},
     "output_type": "execute_result"
    }
   ],
   "source": [
    "greeting = \"hello\"\n",
    "greeting.upper()"
   ]
  },
  {
   "cell_type": "markdown",
   "id": "cce52735-9588-4a73-a4df-fef7e30f797e",
   "metadata": {},
   "source": [
    "## 5. Write a code to replace the word \"apple\" with \"orange\" in the string \"I like apple\". "
   ]
  },
  {
   "cell_type": "code",
   "execution_count": 37,
   "id": "3a1172b8-a0f4-4945-bb1a-f788d2406063",
   "metadata": {},
   "outputs": [
    {
     "data": {
      "text/plain": [
       "'I like orange'"
      ]
     },
     "execution_count": 37,
     "metadata": {},
     "output_type": "execute_result"
    }
   ],
   "source": [
    "s = \"I like apple\"\n",
    "s.replace('apple','orange')"
   ]
  },
  {
   "cell_type": "markdown",
   "id": "f38866e4-e487-4ed5-a89b-3fda09758a15",
   "metadata": {},
   "source": [
    "## 6. Write a code to create a list with numbers 1 to 5 and print it."
   ]
  },
  {
   "cell_type": "code",
   "execution_count": 39,
   "id": "433a9eaf-5037-4b02-bb12-a8ee0ec91732",
   "metadata": {},
   "outputs": [
    {
     "name": "stdout",
     "output_type": "stream",
     "text": [
      "1\n",
      "2\n",
      "3\n",
      "4\n",
      "5\n"
     ]
    }
   ],
   "source": [
    "l = [1,2,3,4,5]\n",
    "for i in l:\n",
    "    print(i)"
   ]
  },
  {
   "cell_type": "markdown",
   "id": "e71ad5a2-42f6-4613-be00-fc4b03e50f56",
   "metadata": {},
   "source": [
    "## 7. Write a code to append the number 10 to the list [1, 2, 3, 4]."
   ]
  },
  {
   "cell_type": "code",
   "execution_count": 41,
   "id": "494a5e4b-e965-4acc-b43d-81663f9c02d9",
   "metadata": {},
   "outputs": [
    {
     "name": "stdout",
     "output_type": "stream",
     "text": [
      "[1, 2, 3, 4, 10]\n"
     ]
    }
   ],
   "source": [
    "l1 = [1,2,3,4]\n",
    "l1.append(10)\n",
    "print(l1)"
   ]
  },
  {
   "cell_type": "markdown",
   "id": "6718b543-cf02-4ce2-9068-1eae3390fabd",
   "metadata": {},
   "source": [
    "## 8. Write a code to remove the number 3 from the list [1, 2, 3, 4, 5]."
   ]
  },
  {
   "cell_type": "code",
   "execution_count": 43,
   "id": "607e0605-45d2-4250-b064-4667318edf17",
   "metadata": {},
   "outputs": [
    {
     "name": "stdout",
     "output_type": "stream",
     "text": [
      "[1, 2, 4, 5]\n"
     ]
    }
   ],
   "source": [
    "l2 = [1,2,3,4,5]\n",
    "l2.remove(3)\n",
    "print(l2)"
   ]
  },
  {
   "cell_type": "markdown",
   "id": "2258c3fc-22e7-4cd1-ace3-76948d641298",
   "metadata": {},
   "source": [
    "## 9. Write a code to access the second element in the list ['a', 'b', 'c', 'd']."
   ]
  },
  {
   "cell_type": "code",
   "execution_count": 44,
   "id": "0a893231-8833-4713-9618-4d4eb516175d",
   "metadata": {},
   "outputs": [
    {
     "data": {
      "text/plain": [
       "'b'"
      ]
     },
     "execution_count": 44,
     "metadata": {},
     "output_type": "execute_result"
    }
   ],
   "source": [
    "l3 = ['a', 'b', 'c', 'd']\n",
    "l3[1]"
   ]
  },
  {
   "cell_type": "markdown",
   "id": "2ba7a7b1-d024-43ea-a999-028e2e2e2401",
   "metadata": {},
   "source": [
    "## 10.  Write a code to reverse the list [10, 20, 30, 40, 50]."
   ]
  },
  {
   "cell_type": "code",
   "execution_count": 50,
   "id": "ffe302ca-0c5e-44fd-b67c-f283c4aec330",
   "metadata": {},
   "outputs": [
    {
     "name": "stdout",
     "output_type": "stream",
     "text": [
      "[50, 40, 30, 20, 10]\n"
     ]
    }
   ],
   "source": [
    "l4 = [10, 20, 30, 40, 50]\n",
    "reversed_list = l4[::-1]\n",
    "print(reversed_list)\n"
   ]
  },
  {
   "cell_type": "markdown",
   "id": "e6979120-7c5d-4865-921e-92701e3d801a",
   "metadata": {},
   "source": [
    "## 11.  Write a code to create a tuple with the elements 10, 20, 30 and print it."
   ]
  },
  {
   "cell_type": "code",
   "execution_count": 51,
   "id": "b18cfb43-20ca-403c-8ea9-f333f712eafb",
   "metadata": {},
   "outputs": [
    {
     "name": "stdout",
     "output_type": "stream",
     "text": [
      "(10, 20, 30)\n"
     ]
    }
   ],
   "source": [
    "t1 = (10,20,30)\n",
    "print(t1)"
   ]
  },
  {
   "cell_type": "markdown",
   "id": "545b64f2-036a-403a-993e-1f1893476ce8",
   "metadata": {},
   "source": [
    "## 12.  Write a code to access the first element of the tuple ('apple', 'banana', 'cherry')."
   ]
  },
  {
   "cell_type": "code",
   "execution_count": 53,
   "id": "850da2ce-6f76-4d4c-8f11-51b0f4e61b75",
   "metadata": {},
   "outputs": [
    {
     "data": {
      "text/plain": [
       "'apple'"
      ]
     },
     "execution_count": 53,
     "metadata": {},
     "output_type": "execute_result"
    }
   ],
   "source": [
    "t2 = ('apple', 'banana', 'cherry')\n",
    "t2[0]"
   ]
  },
  {
   "cell_type": "markdown",
   "id": "82448554-6708-42d3-9206-4ce3fcd57e14",
   "metadata": {},
   "source": [
    "## 13. Write a code to count how many times the number 2 appears in the tuple (1, 2, 3, 2, 4, 2)."
   ]
  },
  {
   "cell_type": "code",
   "execution_count": 54,
   "id": "40801bdb-c3ac-4c29-8051-6635b3abe36f",
   "metadata": {},
   "outputs": [
    {
     "data": {
      "text/plain": [
       "3"
      ]
     },
     "execution_count": 54,
     "metadata": {},
     "output_type": "execute_result"
    }
   ],
   "source": [
    "t3 = (1, 2, 3, 2, 4, 2)\n",
    "t3.count(2)"
   ]
  },
  {
   "cell_type": "markdown",
   "id": "e69a27ee-e4e9-480a-b253-8a618c98ebf7",
   "metadata": {},
   "source": [
    "## 14. Write a code to find the index of the element \"cat\" in the tuple ('dog', 'cat', 'rabbit')."
   ]
  },
  {
   "cell_type": "code",
   "execution_count": 55,
   "id": "650f341d-264b-497f-ae46-f97631474119",
   "metadata": {},
   "outputs": [
    {
     "data": {
      "text/plain": [
       "1"
      ]
     },
     "execution_count": 55,
     "metadata": {},
     "output_type": "execute_result"
    }
   ],
   "source": [
    "t4 = ('dog', 'cat', 'rabbit')\n",
    "t4.index(\"cat\")"
   ]
  },
  {
   "cell_type": "markdown",
   "id": "5600457f-bb5d-4d4b-895a-0a82223e813a",
   "metadata": {},
   "source": [
    "## 15.  Write a code to check if the element \"banana\" is in the tuple ('apple', 'orange', 'banana')."
   ]
  },
  {
   "cell_type": "code",
   "execution_count": 57,
   "id": "589a3d15-7c73-448c-b7dd-86dd104e6295",
   "metadata": {},
   "outputs": [
    {
     "name": "stdout",
     "output_type": "stream",
     "text": [
      "banana is in the tuple\n"
     ]
    }
   ],
   "source": [
    "t5 = ('apple', 'orange', 'banana')\n",
    "if \"banana\" in t5:\n",
    "    print(\"banana is in the tuple\")\n",
    "else:\n",
    "    print(\"banana is not in the tuple\")\n",
    "    "
   ]
  },
  {
   "cell_type": "markdown",
   "id": "ba2bef4b-fb97-4ee3-bb00-4de421123160",
   "metadata": {},
   "source": [
    "## 16. Write a code to create a set with the elements 1, 2, 3, 4, 5 and print it."
   ]
  },
  {
   "cell_type": "code",
   "execution_count": 58,
   "id": "e1ab191b-f610-4dee-8b50-37634cf4b0a4",
   "metadata": {},
   "outputs": [
    {
     "name": "stdout",
     "output_type": "stream",
     "text": [
      "{1, 2, 3, 4, 5}\n"
     ]
    }
   ],
   "source": [
    "se = {1,2,3,4,5}\n",
    "print(se)"
   ]
  },
  {
   "cell_type": "markdown",
   "id": "391c197e-91ae-49e0-85fe-ab1c62049109",
   "metadata": {},
   "source": [
    "## 17. Write a code to add the element 6 to the set {1, 2, 3, 4}."
   ]
  },
  {
   "cell_type": "code",
   "execution_count": 60,
   "id": "5ddadf94-1742-4940-a9da-2502827b77d2",
   "metadata": {},
   "outputs": [
    {
     "name": "stdout",
     "output_type": "stream",
     "text": [
      "{1, 2, 3, 4, 6}\n"
     ]
    }
   ],
   "source": [
    "se1 = {1, 2, 3, 4}\n",
    "se1.add(6)\n",
    "print(se1)"
   ]
  },
  {
   "cell_type": "markdown",
   "id": "cebbd186-bf9b-4f69-94bc-e17fe6a9864c",
   "metadata": {},
   "source": [
    "## 18. Write a code to create a tuple with the elements 10, 20, 30 and print it."
   ]
  },
  {
   "cell_type": "code",
   "execution_count": 61,
   "id": "20e2f65a-8d30-466b-830e-dbb0bfca2da8",
   "metadata": {},
   "outputs": [
    {
     "name": "stdout",
     "output_type": "stream",
     "text": [
      "(10, 20, 30)\n"
     ]
    }
   ],
   "source": [
    "t5 = (10,20,30)\n",
    "print(t5)"
   ]
  },
  {
   "cell_type": "markdown",
   "id": "3ecdb958-e1cd-4f3d-86ae-f5b7b220562d",
   "metadata": {},
   "source": [
    "## 19. Write a code to access the first element of the tuple ('apple', 'banana', 'cherry')."
   ]
  },
  {
   "cell_type": "code",
   "execution_count": 62,
   "id": "72931705-6bf2-4fd5-b982-5bf0d48279d7",
   "metadata": {},
   "outputs": [
    {
     "data": {
      "text/plain": [
       "'apple'"
      ]
     },
     "execution_count": 62,
     "metadata": {},
     "output_type": "execute_result"
    }
   ],
   "source": [
    "t6 = ('apple', 'banana', 'cherry')\n",
    "t6[0]"
   ]
  },
  {
   "cell_type": "markdown",
   "id": "fe0968d9-8d83-4f79-b65e-a78677501629",
   "metadata": {},
   "source": [
    "## 20. Write a code to count how many times the number 2 appears in the tuple (1, 2, 3, 2, 4, 2)."
   ]
  },
  {
   "cell_type": "code",
   "execution_count": 63,
   "id": "918066a6-0e68-44a3-bb9c-d7fe3ced6616",
   "metadata": {},
   "outputs": [
    {
     "data": {
      "text/plain": [
       "3"
      ]
     },
     "execution_count": 63,
     "metadata": {},
     "output_type": "execute_result"
    }
   ],
   "source": [
    "t7 = (1, 2, 3, 2, 4, 2)\n",
    "t7.count(2)"
   ]
  },
  {
   "cell_type": "markdown",
   "id": "b6a68b4a-d33f-4c09-8636-839d00ca3a77",
   "metadata": {},
   "source": [
    "## 21. Write a code to find the index of the element \"cat\" in the tuple ('dog', 'cat', 'rabbit')."
   ]
  },
  {
   "cell_type": "code",
   "execution_count": 64,
   "id": "fb3816ce-4f64-419b-a290-e3077c77564a",
   "metadata": {},
   "outputs": [
    {
     "data": {
      "text/plain": [
       "1"
      ]
     },
     "execution_count": 64,
     "metadata": {},
     "output_type": "execute_result"
    }
   ],
   "source": [
    "t7 = ('dog', 'cat', 'rabbit')\n",
    "t7.index(\"cat\")"
   ]
  },
  {
   "cell_type": "markdown",
   "id": "a74e4d91-682d-4862-8d56-580cfb14ecf7",
   "metadata": {},
   "source": [
    "## 22. Write a code to check if the element \"banana\" is in the tuple ('apple', 'orange', 'banana')."
   ]
  },
  {
   "cell_type": "code",
   "execution_count": 66,
   "id": "cb3d3c10-dc81-4272-bdd8-a8c874fc5659",
   "metadata": {},
   "outputs": [
    {
     "name": "stdout",
     "output_type": "stream",
     "text": [
      "banana is in the tuple\n"
     ]
    }
   ],
   "source": [
    "t8 = ('apple', 'orange', 'banana')\n",
    "if \"banana\" in t8:\n",
    "    print(\"banana is in the tuple\")\n",
    "else:\n",
    "    print(\"banana is not in the tuple\")"
   ]
  },
  {
   "cell_type": "markdown",
   "id": "8989773e-c228-4770-bc83-433c3fc12f30",
   "metadata": {},
   "source": [
    "## 23. Write a code to create a set with the elements 1, 2, 3, 4, 5 and print it."
   ]
  },
  {
   "cell_type": "code",
   "execution_count": 67,
   "id": "24222958-880d-4ab8-838d-41c85817e02b",
   "metadata": {},
   "outputs": [
    {
     "name": "stdout",
     "output_type": "stream",
     "text": [
      "{1, 2, 3, 4, 5}\n"
     ]
    }
   ],
   "source": [
    "se2 = {1,2,3,4,5}\n",
    "print(se2)"
   ]
  },
  {
   "cell_type": "markdown",
   "id": "c3bb5ba8-ce06-4504-a8d7-58ea3a070609",
   "metadata": {},
   "source": [
    "## 24. Write a code to add the element 6 to the set {1, 2, 3, 4}."
   ]
  },
  {
   "cell_type": "code",
   "execution_count": 68,
   "id": "2c400bfb-e135-4cc6-be1c-880514b69af8",
   "metadata": {},
   "outputs": [
    {
     "name": "stdout",
     "output_type": "stream",
     "text": [
      "{1, 2, 3, 4, 6}\n"
     ]
    }
   ],
   "source": [
    "se3 = {1, 2, 3, 4}\n",
    "se3.add(6)\n",
    "print(se3)"
   ]
  },
  {
   "cell_type": "code",
   "execution_count": null,
   "id": "275b1e7f-f8ea-4d23-a235-d606535aa650",
   "metadata": {},
   "outputs": [],
   "source": []
  }
 ],
 "metadata": {
  "kernelspec": {
   "display_name": "Python 3 (ipykernel)",
   "language": "python",
   "name": "python3"
  },
  "language_info": {
   "codemirror_mode": {
    "name": "ipython",
    "version": 3
   },
   "file_extension": ".py",
   "mimetype": "text/x-python",
   "name": "python",
   "nbconvert_exporter": "python",
   "pygments_lexer": "ipython3",
   "version": "3.13.0"
  }
 },
 "nbformat": 4,
 "nbformat_minor": 5
}
